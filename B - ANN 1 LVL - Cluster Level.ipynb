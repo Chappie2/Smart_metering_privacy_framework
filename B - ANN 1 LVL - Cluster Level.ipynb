{
 "cells": [
  {
   "cell_type": "code",
   "execution_count": 1,
   "metadata": {},
   "outputs": [
    {
     "name": "stderr",
     "output_type": "stream",
     "text": [
      "Using TensorFlow backend.\n",
      "c:\\users\\gebruiker\\appdata\\local\\conda\\conda\\envs\\tensorflow\\lib\\site-packages\\h5py\\__init__.py:36: FutureWarning: Conversion of the second argument of issubdtype from `float` to `np.floating` is deprecated. In future, it will be treated as `np.float64 == np.dtype(float).type`.\n",
      "  from ._conv import register_converters as _register_converters\n"
     ]
    }
   ],
   "source": [
    "import os\n",
    "from os import listdir\n",
    "from os.path import isfile, join\n",
    "# For data processing\n",
    "import pandas as pd\n",
    "import datetime as dt\n",
    "\n",
    "# Matrix math\n",
    "import numpy as np\n",
    "import math\n",
    "\n",
    "# For unnesting nested list/array\n",
    "from itertools import chain\n",
    "\n",
    "# Keras for deep learning\n",
    "from keras.models import Sequential\n",
    "from keras.layers.core import Dense, Activation, Dropout, Flatten\n",
    "from keras.layers import LeakyReLU\n",
    "\n",
    "# Scikit learn for mapping metrics\n",
    "from sklearn.metrics import mean_squared_error\n",
    "from sklearn.metrics import mean_absolute_error\n",
    "\n",
    "#for logging\n",
    "from time import time\n",
    "import datetime as dt\n",
    "\n",
    "#plotting\n",
    "import matplotlib.pyplot as plt\n",
    "import matplotlib.axes as ax\n",
    "import seaborn as sns\n",
    "\n",
    "# Attempt to utilize GPU\n",
    "import tensorflow as tf\n",
    "from tensorflow.python.client import device_lib\n",
    "\n",
    "import operator\n",
    "from functools import reduce\n",
    "import winsound"
   ]
  },
  {
   "cell_type": "code",
   "execution_count": 2,
   "metadata": {},
   "outputs": [
    {
     "name": "stdout",
     "output_type": "stream",
     "text": [
      "[name: \"/device:CPU:0\"\n",
      "device_type: \"CPU\"\n",
      "memory_limit: 268435456\n",
      "locality {\n",
      "}\n",
      "incarnation: 8477388843247192711\n",
      ", name: \"/device:GPU:0\"\n",
      "device_type: \"GPU\"\n",
      "memory_limit: 6679640146\n",
      "locality {\n",
      "  bus_id: 1\n",
      "  links {\n",
      "  }\n",
      "}\n",
      "incarnation: 5012387475967946023\n",
      "physical_device_desc: \"device: 0, name: GeForce GTX 1080, pci bus id: 0000:02:00.0, compute capability: 6.1\"\n",
      "]\n"
     ]
    }
   ],
   "source": [
    "device = tf.device(\"/device:GPU:0\")\n",
    "print(device_lib.list_local_devices())"
   ]
  },
  {
   "cell_type": "code",
   "execution_count": 3,
   "metadata": {},
   "outputs": [],
   "source": [
    "BLOCK = 'B'\n",
    "df = pd.read_csv(\"Feat_Eng_B.csv\", sep=\"\\t\", encoding='utf-8')\n",
    "df.drop('Unnamed: 0', axis = 1, inplace=True)\n",
    "# Drop Acorn as this can already be inferred\n",
    "df.drop('Acorn', axis = 1, inplace=True)\n",
    "# Drop variables due to missing data\n",
    "df.drop('cloudCover',axis=1,inplace=True)\n",
    "df.drop('dewPoint',axis=1,inplace=True)\n",
    "df.drop('apparentTemperature',axis=1,inplace=True)\n",
    "df.drop('visibility',axis=1,inplace=True)\n",
    "df.drop('windSpeed',axis=1,inplace=True)\n",
    "df.drop('windBearing',axis=1,inplace=True)\n",
    "# Drop variables deemed irrelevant by statistical analysis\n",
    "df.drop('pressure', axis=1, inplace=True)\n",
    "# Sort values by smart meter\n",
    "df = df[(df['Year'] < 2014) | ((df['Year'] == 2014) & (df['Month'] == 1) & (df['Day'] == 1) & (df['Hour'] < 1.5))]\n",
    "df['LCLid'] = df['LCLid'].apply(str)\n",
    "df = df[df['LCLid'] != '0']\n",
    "df.reset_index(inplace=True, drop=True)"
   ]
  },
  {
   "cell_type": "markdown",
   "metadata": {},
   "source": [
    "## Define Functions"
   ]
  },
  {
   "cell_type": "code",
   "execution_count": 4,
   "metadata": {},
   "outputs": [],
   "source": [
    "def normalize_df_1_lvl(merged_df):\n",
    "    vals = merged_df.values\n",
    "    # Save relevant columns to list\n",
    "    ## Normalize quantitative variables\n",
    "    humidity = [(vals[i,6] / vals[i,20])-1 for i in range(len(vals))]\n",
    "    temperature = [(vals[i,7] / vals[i,21])-1 for i in range(len(vals))]\n",
    "    KWH = [(vals[i,18]) for i in range(len(vals))]\n",
    "    ## Save Binaries\n",
    "    StdorToU = [vals[i,10] for i in range(len(vals))]\n",
    "    isAutumn = [vals[i,11] for i in range(len(vals))]\n",
    "    isSpring = [vals[i,12] for i in range(len(vals))]\n",
    "    isSummer = [vals[i,13] for i in range(len(vals))]\n",
    "    isHoliday = [vals[i,14] for i in range(len(vals))]\n",
    "    isPeak = [vals[i,15] for i in range(len(vals))]\n",
    "    isOff_Peak = [vals[i,16] for i in range(len(vals))]\n",
    "    isWeekend = [vals[i,17] for i in range(len(vals))]\n",
    "    # Save normalization factors to list\n",
    "    y_Normalization_Factors = [vals[i,18] for i in range(len(vals))]\n",
    "    cols = ['humidity','Temperature', 'StdorToU', 'isAutumn', 'isSpring', 'isSummer', 'isHoliday', \n",
    "            'isPeak', 'isOff_Peak', 'isWeekend', 'KWH_hh']\n",
    "    new_df = pd.DataFrame(np.column_stack([humidity, temperature, StdorToU, isAutumn, isSpring, \n",
    "                                           isSummer, isHoliday, isPeak, isOff_Peak, isWeekend,\n",
    "                                           KWH]), columns=cols).values\n",
    "    factors = y_Normalization_Factors\n",
    "    return new_df"
   ]
  },
  {
   "cell_type": "code",
   "execution_count": 5,
   "metadata": {},
   "outputs": [],
   "source": [
    "def feature_scaling_1_lvl(df):\n",
    "    # Create period columns from MACID, Year, Month, Day, Evening,Morning,Night Dummies\n",
    "    df[\"period\"] = (df.loc[:,\"Year\"].map(str) + df.loc[:,\"Month\"].map(str) + df.loc[:,\"Day\"].map(str) + df.loc[:,\"isPeak\"].map(str) + df.loc[:,\"isOff_Peak\"].map(str))\n",
    "    # create aggregated object by 'period' \n",
    "    df_ID_agg = df.groupby('period')\n",
    "    # Extract mean from aggregated list\n",
    "    df_aggregated_mean = df_ID_agg.aggregate(np.mean)\n",
    "    list_ = ['Year', 'Month', 'Day', 'Hour', 'isAutumn',\n",
    "           'isSpring', 'isSummer', 'isHoliday', 'isPeak', 'isOff_Peak',\n",
    "           'isWeekend']\n",
    "    df_aggregated_mean.drop(list_, axis = 1, inplace = True)\n",
    "    # Merge sm with mean values on period IDs\n",
    "    normalization_df = pd.merge(df, df_aggregated_mean, how=\"outer\", on=\"period\")\n",
    "    # Normalize df, return normalizeD df and normalization factors\n",
    "    raw_data = normalize_df_1_lvl(normalization_df) #factors\n",
    "    return raw_data, list(df[\"DateTime\"]) #, factors"
   ]
  },
  {
   "cell_type": "code",
   "execution_count": 6,
   "metadata": {},
   "outputs": [],
   "source": [
    "def model_data_1_lvl(raw_data, timestamps, days):\n",
    "    # Amount of data that is used for training prediction\n",
    "    sequence_length = days*48*len(smart_meters)\n",
    "    # Number of ending, up to, index for testing\n",
    "    window_length = sequence_length+48*len(smart_meters)\n",
    "    #Convert the file to a list\n",
    "    data = np.array(raw_data.tolist())  \n",
    "    X_train = data[0:sequence_length, 0:len(data[0])-1]\n",
    "    y_train = data[0:sequence_length, len(data[0])-1]\n",
    "    X_test = data[sequence_length:window_length, 0:len(data[0])-1]\n",
    "    y_test = data[sequence_length:window_length,len(data[0])-1]\n",
    "    \n",
    "    timestamps_test = timestamps[sequence_length:window_length]\n",
    "    \n",
    "    return X_train, y_train, X_test, y_test, timestamps_test"
   ]
  },
  {
   "cell_type": "code",
   "execution_count": 7,
   "metadata": {},
   "outputs": [],
   "source": [
    "def initialize_model(X_train, loss_function, optimizer):\n",
    "    #Create a Sequential model using Keras\n",
    "    model = Sequential()\n",
    "    #First MLP layer\n",
    "    model.add(Dense(13,input_shape=(X_train.shape[1],)))\n",
    "    model.add(LeakyReLU(alpha=0.2))\n",
    "    #Second MLP layer\n",
    "    model.add(Dense(169))\n",
    "    model.add(LeakyReLU(alpha=0.3))\n",
    "    model.add(Dropout(0.3))\n",
    "    #third MLP layer\n",
    "    model.add(Dense(13))\n",
    "    model.add(LeakyReLU(alpha=0.2))\n",
    "    #Output layer (returns the predicted value)\n",
    "    model.add(Dense(1))\n",
    "    model.add(LeakyReLU(alpha=0.1))\n",
    "    #Set loss function and optimizer\n",
    "    model.compile(loss=loss_function, optimizer=optimizer)\n",
    "    return model"
   ]
  },
  {
   "cell_type": "code",
   "execution_count": 8,
   "metadata": {},
   "outputs": [],
   "source": [
    "def fit_model(model, X_train, Y_train, batch_num, num_epoch, val_split):\n",
    "    #Train the model on X_train and Y_train\n",
    "    with tf.device('/device:GPU:0'):\n",
    "        model.fit(X_train, Y_train, batch_size= batch_num, epochs=num_epoch, validation_split= val_split, verbose = 0)\n",
    "    return model"
   ]
  },
  {
   "cell_type": "code",
   "execution_count": 9,
   "metadata": {},
   "outputs": [],
   "source": [
    "def test_model(model, X_test):\n",
    "    #Test the model on X_Test\n",
    "    with tf.device('/device:GPU:0'):\n",
    "        y_predict = model.predict(X_test)\n",
    "    return y_predict"
   ]
  },
  {
   "cell_type": "code",
   "execution_count": 10,
   "metadata": {},
   "outputs": [],
   "source": [
    "def one_LVL_predict(df, train_days, test_days):\n",
    "    df, timestamps = feature_scaling_1_lvl(df)\n",
    "    # Initialize predictions list\n",
    "    predictions = []\n",
    "    # Initialize iteration value\n",
    "    i = 0\n",
    "    #Record the time the model starts training\n",
    "    start = time()\n",
    "    while i < test_days:\n",
    "        X_train, y_train, X_test, y_test, timestamps_test = model_data_1_lvl(df, timestamps, train_days)\n",
    "        model = initialize_model(X_train, loss_function='mean_squared_error', optimizer='adam')\n",
    "        model = fit_model(model, X_train, y_train, batch_num = 256, num_epoch = 450, val_split = .3)\n",
    "        y_predict = test_model(model, X_test)\n",
    "        for x in range(len(y_predict)):\n",
    "            predictions.append([y_predict[x][0], y_test[x], timestamps_test[x]])\n",
    "        df = df[(48*len(smart_meters)):,:]\n",
    "        timestamps = timestamps[(48*len(smart_meters)):]\n",
    "        if i == 0:\n",
    "            proc_time = int(math.floor(time() - start))\n",
    "            print('1-level predictions for ', BLOCK, ' for ', i, ' days in ', proc_time, ' seconds')\n",
    "        if i % 30 == 0:\n",
    "            print('Epoch: ',i)\n",
    "        i += 1\n",
    "    proc_time = int(math.floor(time() - start))\n",
    "    print('1-level predictions for ', BLOCK, ' for ', i, ' days in ', proc_time, ' seconds')\n",
    "    ## Merge Data\n",
    "    predictions = np.array(predictions)\n",
    "    pred_all = pd.DataFrame({'DateTime': predictions[:,2], 'y_test': predictions[:,1], 'y_hat':predictions[:,0]}) \n",
    "    pred_all.to_csv((\"Cluster_\"+BLOCK+\"_One_LvL_predictions.csv\"), sep=\"\\t\", encoding='utf-8')\n",
    "    return pred_all"
   ]
  },
  {
   "cell_type": "code",
   "execution_count": 11,
   "metadata": {},
   "outputs": [],
   "source": [
    "def mean_absolute_percentage_error(y_true, y_pred): \n",
    "    y_true, y_pred = np.array(y_true), np.array(y_pred)\n",
    "    return np.mean(np.abs((y_true - y_pred) / y_true)) * 100"
   ]
  },
  {
   "cell_type": "code",
   "execution_count": 12,
   "metadata": {},
   "outputs": [],
   "source": [
    "def calculate_statistics(y_predict, Y_test, correlate = False):\n",
    "    #Get Mean Squared Error\n",
    "    RMSE = math.sqrt(mean_squared_error(Y_test, y_predict))\n",
    "    # Get Mean Absolute Error\n",
    "    MAPE = mean_absolute_percentage_error(Y_test, y_predict)\n",
    "    \n",
    "    # empty value for corr\n",
    "    corr = np.nan\n",
    "    # conditional to execute correlation\n",
    "    if correlate == True:\n",
    "        # Get Pearson product-moment correlation coefficients\n",
    "        corr = np.corrcoef(Y_test, y_predict)[1][0]**2\n",
    "    return RMSE, MAPE, corr"
   ]
  },
  {
   "cell_type": "markdown",
   "metadata": {},
   "source": [
    "## Predictions 1 Level ANN model - MLP"
   ]
  },
  {
   "cell_type": "code",
   "execution_count": 13,
   "metadata": {},
   "outputs": [
    {
     "data": {
      "text/html": [
       "<div>\n",
       "<style scoped>\n",
       "    .dataframe tbody tr th:only-of-type {\n",
       "        vertical-align: middle;\n",
       "    }\n",
       "\n",
       "    .dataframe tbody tr th {\n",
       "        vertical-align: top;\n",
       "    }\n",
       "\n",
       "    .dataframe thead th {\n",
       "        text-align: right;\n",
       "    }\n",
       "</style>\n",
       "<table border=\"1\" class=\"dataframe\">\n",
       "  <thead>\n",
       "    <tr style=\"text-align: right;\">\n",
       "      <th></th>\n",
       "      <th>LCLid</th>\n",
       "      <th>Year</th>\n",
       "      <th>Month</th>\n",
       "      <th>Day</th>\n",
       "      <th>Hour</th>\n",
       "      <th>DateTime</th>\n",
       "      <th>humidity</th>\n",
       "      <th>temperature</th>\n",
       "      <th>StdorToU</th>\n",
       "      <th>isAutumn</th>\n",
       "      <th>isSpring</th>\n",
       "      <th>isSummer</th>\n",
       "      <th>isWinter</th>\n",
       "      <th>isHoliday</th>\n",
       "      <th>isPeak</th>\n",
       "      <th>isOff_Peak</th>\n",
       "      <th>isNight</th>\n",
       "      <th>isWeekend</th>\n",
       "      <th>KWH_hh</th>\n",
       "    </tr>\n",
       "  </thead>\n",
       "  <tbody>\n",
       "    <tr>\n",
       "      <th>0</th>\n",
       "      <td>MAC001966</td>\n",
       "      <td>2012</td>\n",
       "      <td>11</td>\n",
       "      <td>1</td>\n",
       "      <td>0.0</td>\n",
       "      <td>2012-11-01 00:00</td>\n",
       "      <td>0.82</td>\n",
       "      <td>11.193333</td>\n",
       "      <td>1</td>\n",
       "      <td>1</td>\n",
       "      <td>0</td>\n",
       "      <td>0</td>\n",
       "      <td>0</td>\n",
       "      <td>0</td>\n",
       "      <td>0</td>\n",
       "      <td>0</td>\n",
       "      <td>1</td>\n",
       "      <td>0</td>\n",
       "      <td>0.162</td>\n",
       "    </tr>\n",
       "    <tr>\n",
       "      <th>1</th>\n",
       "      <td>MAC003355</td>\n",
       "      <td>2012</td>\n",
       "      <td>11</td>\n",
       "      <td>1</td>\n",
       "      <td>0.0</td>\n",
       "      <td>2012-11-01 00:00</td>\n",
       "      <td>0.82</td>\n",
       "      <td>11.193333</td>\n",
       "      <td>1</td>\n",
       "      <td>1</td>\n",
       "      <td>0</td>\n",
       "      <td>0</td>\n",
       "      <td>0</td>\n",
       "      <td>0</td>\n",
       "      <td>0</td>\n",
       "      <td>0</td>\n",
       "      <td>1</td>\n",
       "      <td>0</td>\n",
       "      <td>0.248</td>\n",
       "    </tr>\n",
       "    <tr>\n",
       "      <th>2</th>\n",
       "      <td>MAC003445</td>\n",
       "      <td>2012</td>\n",
       "      <td>11</td>\n",
       "      <td>1</td>\n",
       "      <td>0.0</td>\n",
       "      <td>2012-11-01 00:00</td>\n",
       "      <td>0.82</td>\n",
       "      <td>11.193333</td>\n",
       "      <td>1</td>\n",
       "      <td>1</td>\n",
       "      <td>0</td>\n",
       "      <td>0</td>\n",
       "      <td>0</td>\n",
       "      <td>0</td>\n",
       "      <td>0</td>\n",
       "      <td>0</td>\n",
       "      <td>1</td>\n",
       "      <td>0</td>\n",
       "      <td>0.507</td>\n",
       "    </tr>\n",
       "    <tr>\n",
       "      <th>3</th>\n",
       "      <td>MAC003876</td>\n",
       "      <td>2012</td>\n",
       "      <td>11</td>\n",
       "      <td>1</td>\n",
       "      <td>0.0</td>\n",
       "      <td>2012-11-01 00:00</td>\n",
       "      <td>0.82</td>\n",
       "      <td>11.193333</td>\n",
       "      <td>1</td>\n",
       "      <td>1</td>\n",
       "      <td>0</td>\n",
       "      <td>0</td>\n",
       "      <td>0</td>\n",
       "      <td>0</td>\n",
       "      <td>0</td>\n",
       "      <td>0</td>\n",
       "      <td>1</td>\n",
       "      <td>0</td>\n",
       "      <td>0.139</td>\n",
       "    </tr>\n",
       "    <tr>\n",
       "      <th>4</th>\n",
       "      <td>MAC004567</td>\n",
       "      <td>2012</td>\n",
       "      <td>11</td>\n",
       "      <td>1</td>\n",
       "      <td>0.0</td>\n",
       "      <td>2012-11-01 00:00</td>\n",
       "      <td>0.82</td>\n",
       "      <td>11.193333</td>\n",
       "      <td>1</td>\n",
       "      <td>1</td>\n",
       "      <td>0</td>\n",
       "      <td>0</td>\n",
       "      <td>0</td>\n",
       "      <td>0</td>\n",
       "      <td>0</td>\n",
       "      <td>0</td>\n",
       "      <td>1</td>\n",
       "      <td>0</td>\n",
       "      <td>0.054</td>\n",
       "    </tr>\n",
       "  </tbody>\n",
       "</table>\n",
       "</div>"
      ],
      "text/plain": [
       "       LCLid  Year  Month  Day  Hour          DateTime  humidity  temperature  \\\n",
       "0  MAC001966  2012     11    1   0.0  2012-11-01 00:00      0.82    11.193333   \n",
       "1  MAC003355  2012     11    1   0.0  2012-11-01 00:00      0.82    11.193333   \n",
       "2  MAC003445  2012     11    1   0.0  2012-11-01 00:00      0.82    11.193333   \n",
       "3  MAC003876  2012     11    1   0.0  2012-11-01 00:00      0.82    11.193333   \n",
       "4  MAC004567  2012     11    1   0.0  2012-11-01 00:00      0.82    11.193333   \n",
       "\n",
       "   StdorToU  isAutumn  isSpring  isSummer  isWinter  isHoliday  isPeak  \\\n",
       "0         1         1         0         0         0          0       0   \n",
       "1         1         1         0         0         0          0       0   \n",
       "2         1         1         0         0         0          0       0   \n",
       "3         1         1         0         0         0          0       0   \n",
       "4         1         1         0         0         0          0       0   \n",
       "\n",
       "   isOff_Peak  isNight  isWeekend  KWH_hh  \n",
       "0           0        1          0   0.162  \n",
       "1           0        1          0   0.248  \n",
       "2           0        1          0   0.507  \n",
       "3           0        1          0   0.139  \n",
       "4           0        1          0   0.054  "
      ]
     },
     "execution_count": 13,
     "metadata": {},
     "output_type": "execute_result"
    }
   ],
   "source": [
    "smart_meters = set(list(df.LCLid))\n",
    "df.head(5)"
   ]
  },
  {
   "cell_type": "code",
   "execution_count": 14,
   "metadata": {},
   "outputs": [
    {
     "name": "stdout",
     "output_type": "stream",
     "text": [
      "1-level predictions for  B  for  0  days in  46  seconds\n",
      "Epoch:  0\n",
      "Epoch:  30\n",
      "Epoch:  60\n",
      "Epoch:  90\n",
      "Epoch:  120\n",
      "Epoch:  150\n",
      "Epoch:  180\n",
      "Epoch:  210\n",
      "Epoch:  240\n",
      "Epoch:  270\n",
      "Epoch:  300\n",
      "Epoch:  330\n",
      "Epoch:  360\n",
      "1-level predictions for  B  for  364  days in  37249  seconds\n"
     ]
    }
   ],
   "source": [
    "ann_1_lvl_preds = one_LVL_predict(df, train_days=31, test_days=364)\n",
    "ann_1_lvl_preds.y_hat = ann_1_lvl_preds.y_hat.astype(float)\n",
    "ann_1_lvl_preds.y_test = ann_1_lvl_preds.y_test.astype(float)"
   ]
  },
  {
   "cell_type": "code",
   "execution_count": 15,
   "metadata": {},
   "outputs": [
    {
     "data": {
      "text/html": [
       "<div>\n",
       "<style scoped>\n",
       "    .dataframe tbody tr th:only-of-type {\n",
       "        vertical-align: middle;\n",
       "    }\n",
       "\n",
       "    .dataframe tbody tr th {\n",
       "        vertical-align: top;\n",
       "    }\n",
       "\n",
       "    .dataframe thead th {\n",
       "        text-align: right;\n",
       "    }\n",
       "</style>\n",
       "<table border=\"1\" class=\"dataframe\">\n",
       "  <thead>\n",
       "    <tr style=\"text-align: right;\">\n",
       "      <th></th>\n",
       "      <th>DateTime</th>\n",
       "      <th>y_hat</th>\n",
       "      <th>y_test</th>\n",
       "    </tr>\n",
       "  </thead>\n",
       "  <tbody>\n",
       "    <tr>\n",
       "      <th>0</th>\n",
       "      <td>2012-12-01 23:30</td>\n",
       "      <td>0.489895</td>\n",
       "      <td>0.2822</td>\n",
       "    </tr>\n",
       "    <tr>\n",
       "      <th>1</th>\n",
       "      <td>2012-12-02 00:00</td>\n",
       "      <td>0.064094</td>\n",
       "      <td>0.2116</td>\n",
       "    </tr>\n",
       "    <tr>\n",
       "      <th>2</th>\n",
       "      <td>2012-12-02 00:30</td>\n",
       "      <td>0.068942</td>\n",
       "      <td>0.2304</td>\n",
       "    </tr>\n",
       "    <tr>\n",
       "      <th>3</th>\n",
       "      <td>2012-12-02 01:00</td>\n",
       "      <td>0.073813</td>\n",
       "      <td>0.1558</td>\n",
       "    </tr>\n",
       "    <tr>\n",
       "      <th>4</th>\n",
       "      <td>2012-12-02 01:30</td>\n",
       "      <td>0.143435</td>\n",
       "      <td>0.1750</td>\n",
       "    </tr>\n",
       "  </tbody>\n",
       "</table>\n",
       "</div>"
      ],
      "text/plain": [
       "           DateTime     y_hat  y_test\n",
       "0  2012-12-01 23:30  0.489895  0.2822\n",
       "1  2012-12-02 00:00  0.064094  0.2116\n",
       "2  2012-12-02 00:30  0.068942  0.2304\n",
       "3  2012-12-02 01:00  0.073813  0.1558\n",
       "4  2012-12-02 01:30  0.143435  0.1750"
      ]
     },
     "execution_count": 15,
     "metadata": {},
     "output_type": "execute_result"
    }
   ],
   "source": [
    "agg_ann_1_lvl = ann_1_lvl_preds.groupby(['DateTime'], as_index=False).agg({'y_hat': 'mean', 'y_test':'mean'})\n",
    "agg_ann_1_lvl.head()"
   ]
  },
  {
   "cell_type": "code",
   "execution_count": 16,
   "metadata": {},
   "outputs": [
    {
     "name": "stdout",
     "output_type": "stream",
     "text": [
      "Root Mean Squared Error: 0.817611298977148\n",
      "Mean Absolute Percentage Error: 45.652623825405655\n"
     ]
    }
   ],
   "source": [
    "ann_1_lvl_RMSE, ann_1_lvl_MAPE, _ = calculate_statistics(agg_ann_1_lvl.y_hat.values, agg_ann_1_lvl.y_test.values, correlate = False)\n",
    "print(\"Root Mean Squared Error:\", ann_1_lvl_RMSE)\n",
    "print(\"Mean Absolute Percentage Error:\", ann_1_lvl_MAPE)"
   ]
  },
  {
   "cell_type": "code",
   "execution_count": 17,
   "metadata": {},
   "outputs": [
    {
     "name": "stdout",
     "output_type": "stream",
     "text": [
      "Lowerbound is  -0.008781143489999999 , upper-bound is 1.1691506898000017\n"
     ]
    }
   ],
   "source": [
    "upper_bound_1_lvl = np.percentile(agg_ann_1_lvl.y_hat, 99.9)\n",
    "lower_bound_1_lvl = np.percentile(agg_ann_1_lvl.y_hat, 1)\n",
    "print('Lowerbound is ', lower_bound_1_lvl, ', upper-bound is', upper_bound_1_lvl)"
   ]
  },
  {
   "cell_type": "code",
   "execution_count": 18,
   "metadata": {},
   "outputs": [
    {
     "data": {
      "text/plain": [
       "149      -0.035770\n",
       "150      -0.071701\n",
       "151      -0.107736\n",
       "152      -0.128234\n",
       "153      -0.148732\n",
       "154      -0.068286\n",
       "158      -0.033514\n",
       "159      -0.063103\n",
       "160      -0.060788\n",
       "545      -0.204096\n",
       "546      -0.175729\n",
       "547      -0.147362\n",
       "548      -0.099579\n",
       "549      -0.048304\n",
       "2162     -0.012325\n",
       "2163     -0.043418\n",
       "2164     -0.068876\n",
       "2165     -0.088116\n",
       "2166     -0.105675\n",
       "2167     -0.123516\n",
       "2168     -0.135417\n",
       "2169     -0.147391\n",
       "2170     -0.152969\n",
       "2171     -0.158547\n",
       "2172     -0.158960\n",
       "2173     -0.159374\n",
       "2174     -0.142553\n",
       "2175     -0.125800\n",
       "2176     -0.104694\n",
       "2193     -0.151152\n",
       "           ...    \n",
       "14209    -0.013478\n",
       "14210    -0.011064\n",
       "14216    -0.010057\n",
       "14217    -0.011431\n",
       "14218    -0.012218\n",
       "14219    -0.013038\n",
       "14220    -0.013227\n",
       "14221    -0.013426\n",
       "14222    -0.011770\n",
       "14223    -0.010124\n",
       "14224    -0.009556\n",
       "14236    -0.008819\n",
       "14237    -0.011924\n",
       "14238    -0.015007\n",
       "14239    -0.018146\n",
       "14240    -0.022923\n",
       "17343    -0.010788\n",
       "17360    -0.028699\n",
       "17361    -0.015713\n",
       "17375    -0.009735\n",
       "17376    -5.224461\n",
       "17377    -6.790794\n",
       "17378    -8.357133\n",
       "17379   -10.216999\n",
       "17380   -12.076877\n",
       "17381   -11.480712\n",
       "17382   -10.884547\n",
       "17383    -6.933012\n",
       "17384    -2.981490\n",
       "17385    -0.345569\n",
       "Name: y_hat, Length: 175, dtype: float64"
      ]
     },
     "execution_count": 18,
     "metadata": {},
     "output_type": "execute_result"
    }
   ],
   "source": [
    "agg_ann_1_lvl.y_hat[agg_ann_1_lvl.y_hat >= upper_bound_1_lvl]\n",
    "agg_ann_1_lvl.y_hat[agg_ann_1_lvl.y_hat <= lower_bound_1_lvl]"
   ]
  },
  {
   "cell_type": "code",
   "execution_count": 19,
   "metadata": {},
   "outputs": [
    {
     "name": "stderr",
     "output_type": "stream",
     "text": [
      "c:\\users\\gebruiker\\appdata\\local\\conda\\conda\\envs\\tensorflow\\lib\\site-packages\\ipykernel_launcher.py:1: SettingWithCopyWarning: \n",
      "A value is trying to be set on a copy of a slice from a DataFrame\n",
      "\n",
      "See the caveats in the documentation: http://pandas.pydata.org/pandas-docs/stable/indexing.html#indexing-view-versus-copy\n",
      "  \"\"\"Entry point for launching an IPython kernel.\n",
      "c:\\users\\gebruiker\\appdata\\local\\conda\\conda\\envs\\tensorflow\\lib\\site-packages\\ipykernel_launcher.py:2: SettingWithCopyWarning: \n",
      "A value is trying to be set on a copy of a slice from a DataFrame\n",
      "\n",
      "See the caveats in the documentation: http://pandas.pydata.org/pandas-docs/stable/indexing.html#indexing-view-versus-copy\n",
      "  \n"
     ]
    }
   ],
   "source": [
    "agg_ann_1_lvl.y_hat[agg_ann_1_lvl.y_hat >= upper_bound_1_lvl] = upper_bound_1_lvl\n",
    "agg_ann_1_lvl.y_hat[agg_ann_1_lvl.y_hat <= lower_bound_1_lvl] = lower_bound_1_lvl"
   ]
  },
  {
   "cell_type": "code",
   "execution_count": 20,
   "metadata": {},
   "outputs": [
    {
     "name": "stdout",
     "output_type": "stream",
     "text": [
      "Root Mean Squared Error: 0.17450734066938556\n",
      "Mean Absolute Percentage Error: 39.14467823471181\n"
     ]
    }
   ],
   "source": [
    "ann_1_lvl_RMSE, ann_1_lvl_MAPE, _ = calculate_statistics(agg_ann_1_lvl.y_hat.values, agg_ann_1_lvl.y_test.values, correlate = False)\n",
    "print(\"Root Mean Squared Error:\", ann_1_lvl_RMSE)\n",
    "print(\"Mean Absolute Percentage Error:\", ann_1_lvl_MAPE)"
   ]
  },
  {
   "cell_type": "code",
   "execution_count": 21,
   "metadata": {},
   "outputs": [
    {
     "data": {
      "text/plain": [
       "<matplotlib.legend.Legend at 0x226370bdbe0>"
      ]
     },
     "execution_count": 21,
     "metadata": {},
     "output_type": "execute_result"
    },
    {
     "data": {
      "image/png": "[encoded data removed]",
      "text/plain": [
       "<Figure size 720x360 with 1 Axes>"
      ]
     },
     "metadata": {},
     "output_type": "display_data"
    }
   ],
   "source": [
    "#Plot of the predicted prices versus the real prices\n",
    "fig = plt.figure(figsize=(10,5))\n",
    "ax = fig.add_subplot(111)\n",
    "plt.plot(agg_ann_1_lvl.y_test.values, color = 'green', label = 'Real kWH')\n",
    "plt.plot(agg_ann_1_lvl.y_hat.values, color = 'red', label = 'Predicted kWH')\n",
    "ax.set_ylabel(\"kWh\")\n",
    "ax.set_xlabel(\"Time (half-hours)\")\n",
    "ax.legend()"
   ]
  },
  {
   "cell_type": "code",
   "execution_count": 22,
   "metadata": {},
   "outputs": [],
   "source": [
    "frequency = 800  # Set Frequency To 2500 Hertz\n",
    "duration = 5000  # Set Duration To 1000 ms == 1 second\n",
    "winsound.Beep(frequency, duration)"
   ]
  },
  {
   "cell_type": "code",
   "execution_count": null,
   "metadata": {},
   "outputs": [],
   "source": []
  }
 ],
 "metadata": {
  "kernelspec": {
   "display_name": "Python 3",
   "language": "python",
   "name": "python3"
  },
  "language_info": {
   "codemirror_mode": {
    "name": "ipython",
    "version": 3
   },
   "file_extension": ".py",
   "mimetype": "text/x-python",
   "name": "python",
   "nbconvert_exporter": "python",
   "pygments_lexer": "ipython3",
   "version": "3.6.5"
  }
 },
 "nbformat": 4,
 "nbformat_minor": 2
}
