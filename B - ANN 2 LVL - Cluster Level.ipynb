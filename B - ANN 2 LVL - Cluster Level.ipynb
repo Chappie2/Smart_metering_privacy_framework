{
 "cells": [
  {
   "cell_type": "code",
   "execution_count": 1,
   "metadata": {},
   "outputs": [
    {
     "name": "stderr",
     "output_type": "stream",
     "text": [
      "Using TensorFlow backend.\n"
     ]
    }
   ],
   "source": [
    "import os\n",
    "from os import listdir\n",
    "from os.path import isfile, join\n",
    "# For data processing\n",
    "import pandas as pd\n",
    "import datetime as dt\n",
    "\n",
    "# Matrix math\n",
    "import numpy as np\n",
    "import math\n",
    "\n",
    "# For unnesting nested list/array\n",
    "from itertools import chain\n",
    "\n",
    "# Keras for deep learning\n",
    "from keras.models import Sequential\n",
    "from keras.layers.core import Dense, Activation, Dropout, Flatten\n",
    "from keras.layers import LeakyReLU\n",
    "\n",
    "# ARIMA\n",
    "import statsmodels.api as sm\n",
    "from statsmodels.tsa.arima_model import ARIMA\n",
    "from statsmodels.graphics.tsaplots import plot_acf, plot_pacf\n",
    "from statsmodels.tsa.stattools import adfuller\n",
    "\n",
    "# Scikit learn for mapping metrics\n",
    "from sklearn.metrics import mean_squared_error\n",
    "from sklearn.metrics import mean_absolute_error\n",
    "\n",
    "#for logging\n",
    "from time import time\n",
    "import datetime as dt\n",
    "\n",
    "#plotting\n",
    "import matplotlib.pyplot as plt\n",
    "import matplotlib.axes as ax\n",
    "import seaborn as sns\n",
    "\n",
    "# Attempt to utilize GPU\n",
    "import tensorflow as tf\n",
    "from tensorflow.python.client import device_lib\n",
    "\n",
    "import operator\n",
    "from functools import reduce\n",
    "import winsound"
   ]
  },
  {
   "cell_type": "code",
   "execution_count": 2,
   "metadata": {},
   "outputs": [
    {
     "name": "stdout",
     "output_type": "stream",
     "text": [
      "[name: \"/device:CPU:0\"\n",
      "device_type: \"CPU\"\n",
      "memory_limit: 268435456\n",
      "locality {\n",
      "}\n",
      "incarnation: 9446957518038599772\n",
      "]\n"
     ]
    }
   ],
   "source": [
    "device = tf.device(\"/device:GPU:0\")\n",
    "print(device_lib.list_local_devices())"
   ]
  },
  {
   "cell_type": "code",
   "execution_count": 3,
   "metadata": {},
   "outputs": [],
   "source": [
    "BLOCK = 'B'\n",
    "df = pd.read_csv(\"Feat_Eng_B.csv\", sep=\"\\t\", encoding='utf-8')\n",
    "df.drop('Unnamed: 0', axis = 1, inplace=True)\n",
    "# Drop Acorn as this can already be inferred\n",
    "df.drop('Acorn', axis = 1, inplace=True)\n",
    "# Drop variables due to missing data\n",
    "df.drop('cloudCover',axis=1,inplace=True)\n",
    "df.drop('dewPoint',axis=1,inplace=True)\n",
    "df.drop('apparentTemperature',axis=1,inplace=True)\n",
    "df.drop('visibility',axis=1,inplace=True)\n",
    "df.drop('windSpeed',axis=1,inplace=True)\n",
    "df.drop('windBearing',axis=1,inplace=True)\n",
    "# Drop variables deemed irrelevant by statistical analysis\n",
    "df.drop('pressure', axis=1, inplace=True)\n",
    "# Sort values by smart meter\n",
    "df = df[(df['Year'] < 2014) | ((df['Year'] == 2014) & (df['Month'] == 1) & (df['Day'] == 1) & (df['Hour'] < 1.5))]\n",
    "df['LCLid'] = df['LCLid'].apply(str)\n",
    "df = df[df['LCLid'] != '0']\n",
    "df.reset_index(inplace=True, drop=True)"
   ]
  },
  {
   "cell_type": "markdown",
   "metadata": {},
   "source": [
    "## Define Functions"
   ]
  },
  {
   "cell_type": "code",
   "execution_count": 4,
   "metadata": {},
   "outputs": [],
   "source": [
    "def normalize_df(merged_df):\n",
    "    vals = merged_df.values\n",
    "    # Save relevant columns to list\n",
    "    ## Save ID by period\n",
    "    ## Normalize quantitative variables\n",
    "    humidity = [(vals[i,5] / vals[i,18])-1 for i in range(len(vals))]\n",
    "    temperature = [(vals[i,6] / vals[i,19])-1 for i in range(len(vals))]\n",
    "    y_hat_mean = [(vals[i,14]  / vals[i,20])-1 for i in range(len(vals))]\n",
    "    y_hat_std = [(vals[i,15] / vals[i,21])-1 for i in range(len(vals))]\n",
    "    KWH = [vals[i,16] for i in range(len(vals))]\n",
    "    ## Save Binaries\n",
    "    isAutumn = [vals[i,7] for i in range(len(vals))]\n",
    "    isSpring = [vals[i,8] for i in range(len(vals))]\n",
    "    isSummer = [vals[i,9] for i in range(len(vals))]\n",
    "    isHoliday = [vals[i,10] for i in range(len(vals))]\n",
    "    isPeak = [vals[i,11] for i in range(len(vals))]\n",
    "    isOff_Peak = [vals[i,12] for i in range(len(vals))]\n",
    "    isWeekend = [vals[i,13] for i in range(len(vals))]\n",
    "    # Save normalization factors to list\n",
    "    #y_Normalization_Factors = [vals[i,14] for i in range(len(vals))]\n",
    "    cols = ['humidity','Temperature', 'isAutumn', 'isSpring', 'isSummer', 'isHoliday', \n",
    "                'isPeak', 'isOff_Peak', 'isWeekend', 'y_hat_mean', 'y_hat_std', 'KWH_hh']\n",
    "    new_df = pd.DataFrame(np.column_stack([humidity, temperature, isAutumn, isSpring, isSummer, isHoliday,\n",
    "                                               isPeak, isOff_Peak, isWeekend, y_hat_mean, y_hat_std, KWH]), columns=cols).values\n",
    "    #factors = y_Normalization_Factors\n",
    "    return new_df#, factors #, ID"
   ]
  },
  {
   "cell_type": "code",
   "execution_count": 5,
   "metadata": {},
   "outputs": [],
   "source": [
    "def feature_scaling(sm):\n",
    "    # Create period columns from MACID, Year, Month, Day, Evening,Morning,Night Dummies\n",
    "    sm[\"period\"] = (sm.loc[:,\"Year\"].map(str) + sm.loc[:,\"Month\"].map(str) + sm.loc[:,\"Day\"].map(str) + sm.loc[:,\"isPeak\"].map(str) + sm.loc[:,\"isOff_Peak\"].map(str))\n",
    "    # create aggregated object by 'period' \n",
    "    sm_ID_agg = sm.groupby('period')\n",
    "    # Extract mean from aggregated list\n",
    "    sm_aggregated_mean = sm_ID_agg.aggregate(np.mean)\n",
    "    list_ = ['Year', 'Month', 'Day', 'Hour', 'isAutumn',\n",
    "           'isSpring', 'isSummer', 'isHoliday', 'isPeak', 'isOff_Peak',\n",
    "           'isWeekend']\n",
    "    sm_aggregated_mean.drop(list_, axis = 1, inplace = True)\n",
    "    # Merge sm with mean values on period IDs\n",
    "    normalization_df = pd.merge(sm, sm_aggregated_mean, how=\"outer\", on=\"period\")\n",
    "    # Normalize df, return normalizeD df and normalization factors\n",
    "    raw_data = normalize_df(normalization_df) #factors\n",
    "    return raw_data, list(sm[\"DateTime\"]) #, factors"
   ]
  },
  {
   "cell_type": "code",
   "execution_count": 6,
   "metadata": {},
   "outputs": [],
   "source": [
    "def model_data(raw_data, timestamps, days):\n",
    "    # Amount of data that is used for training prediction\n",
    "    sequence_length = days*48\n",
    "    # Number of ending, up to, index for testing\n",
    "    window_length = sequence_length+48\n",
    "    #Convert the file to a list\n",
    "    data = np.array(raw_data.tolist())  \n",
    "    X_train = data[0:sequence_length, 0:len(data[0])-1]\n",
    "    y_train = data[0:sequence_length, len(data[0])-1]\n",
    "    X_test = data[sequence_length:window_length, 0:len(data[0])-1]\n",
    "    y_test = data[sequence_length:window_length,len(data[0])-1]\n",
    "    timestamps_test = timestamps[sequence_length:window_length]\n",
    "    return X_train, y_train, X_test, y_test, list(timestamps_test)"
   ]
  },
  {
   "cell_type": "code",
   "execution_count": 7,
   "metadata": {},
   "outputs": [],
   "source": [
    "def initialize_model(X_train, loss_function, optimizer):\n",
    "    #Create a Sequential model using Keras\n",
    "    model = Sequential()\n",
    "    #First MLP layer\n",
    "    model.add(Dense(13,input_shape=(X_train.shape[1],)))\n",
    "    model.add(LeakyReLU(alpha=0.2))\n",
    "    model.add(Dropout(0.1))\n",
    "    #Second MLP layer\n",
    "    model.add(Dense(169))\n",
    "    model.add(LeakyReLU(alpha=0.3))\n",
    "    model.add(Dropout(0.25))\n",
    "    #third MLP layer\n",
    "    model.add(Dense(13))\n",
    "    model.add(LeakyReLU(alpha=0.2))\n",
    "    #Output layer (returns the predicted value)\n",
    "    model.add(Dense(1))\n",
    "    model.add(LeakyReLU(alpha=0.1))\n",
    "    #Set loss function and optimizer\n",
    "    model.compile(loss=loss_function, optimizer=optimizer)\n",
    "    return model"
   ]
  },
  {
   "cell_type": "code",
   "execution_count": 8,
   "metadata": {},
   "outputs": [],
   "source": [
    "def fit_model(model, X_train, Y_train, batch_num, num_epoch, val_split):\n",
    "    #Train the model on X_train and Y_train\n",
    "    with tf.device('/device:GPU:0'):\n",
    "        model.fit(X_train, Y_train, batch_size= batch_num, epochs=num_epoch, validation_split= val_split, verbose = 0)\n",
    "    return model"
   ]
  },
  {
   "cell_type": "code",
   "execution_count": 9,
   "metadata": {},
   "outputs": [],
   "source": [
    "def test_model(model, X_test):\n",
    "    #Test the model on X_Test\n",
    "    with tf.device('/device:GPU:0'):\n",
    "        y_predict = model.predict(X_test)\n",
    "    return y_predict"
   ]
  },
  {
   "cell_type": "code",
   "execution_count": 10,
   "metadata": {},
   "outputs": [],
   "source": [
    "def cluster_predict_365(df, train_days, test_days):\n",
    "    df, timestamps = feature_scaling(df)\n",
    "    # Initialize predictions list\n",
    "    predictions = []\n",
    "    #Record the time the model starts training\n",
    "    start = time()\n",
    "    # Initialize iteration value\n",
    "    i = 0\n",
    "    while i < test_days:\n",
    "        X_train, y_train, X_test, y_test, timestamps_test = model_data(df, timestamps, train_days)\n",
    "        model = initialize_model(X_train, loss_function='mean_squared_error', optimizer='adam')\n",
    "        model = fit_model(model, X_train, y_train, batch_num = 64, num_epoch = 500, val_split = .2)\n",
    "        y_predict = test_model(model, X_test)\n",
    "        for x in range(len(y_predict)):\n",
    "            predictions.append([y_predict[x][0], y_test[x], timestamps_test[x]])\n",
    "        df = df[48:,:]\n",
    "        timestamps = timestamps[48:]\n",
    "        if i == 0:\n",
    "            proc_time = int(math.floor(time() - start))\n",
    "            print('1-level predictions for ', BLOCK, ' for ', i, ' days in ', proc_time, ' seconds')\n",
    "        if i % 30 == 0:\n",
    "            print('Epoch: ',i)\n",
    "        i += 1\n",
    "    proc_time = int(math.floor(time() - start))\n",
    "    print('Predictions for ', BLOCK, ' takes ', proc_time, ' seconds, for ', i, ' days.')\n",
    "    \n",
    "    ## Merge Data\n",
    "    predictions = np.array(predictions)\n",
    "    pred_all = pd.DataFrame({'y_test':predictions[:,0], 'y_hat': predictions[:,1], 'DateTime': predictions[:,2]}) \n",
    "    pred_all.to_csv((\"Cluster_\"+BLOCK+\"_2ndLvL_predictions.csv\"), sep=\"\\t\", encoding='utf-8')\n",
    "    return pred_all"
   ]
  },
  {
   "cell_type": "code",
   "execution_count": 11,
   "metadata": {},
   "outputs": [],
   "source": [
    "def mean_absolute_percentage_error(y_true, y_pred): \n",
    "    y_true, y_pred = np.array(y_true), np.array(y_pred)\n",
    "    return np.mean(np.abs((y_true - y_pred) / y_true)) * 100"
   ]
  },
  {
   "cell_type": "code",
   "execution_count": 12,
   "metadata": {},
   "outputs": [],
   "source": [
    "def calculate_statistics(y_predict, Y_test, correlate = False):\n",
    "    #Get Mean Squared Error\n",
    "    RMSE = math.sqrt(mean_squared_error(Y_test, y_predict))\n",
    "    # Get Mean Absolute Error\n",
    "    MAPE = mean_absolute_percentage_error(Y_test, y_predict)\n",
    "    \n",
    "    # empty value for corr\n",
    "    corr = np.nan\n",
    "    # conditional to execute correlation\n",
    "    if correlate == True:\n",
    "        # Get Pearson product-moment correlation coefficients\n",
    "        corr = np.corrcoef(Y_test, y_predict)[1][0]**2\n",
    "    return RMSE, MAPE, corr"
   ]
  },
  {
   "cell_type": "markdown",
   "metadata": {},
   "source": [
    "## Putting it together"
   ]
  },
  {
   "cell_type": "markdown",
   "metadata": {},
   "source": [
    "### Step 1. Data Engineering"
   ]
  },
  {
   "cell_type": "code",
   "execution_count": 13,
   "metadata": {},
   "outputs": [
    {
     "data": {
      "text/html": [
       "<div>\n",
       "<style scoped>\n",
       "    .dataframe tbody tr th:only-of-type {\n",
       "        vertical-align: middle;\n",
       "    }\n",
       "\n",
       "    .dataframe tbody tr th {\n",
       "        vertical-align: top;\n",
       "    }\n",
       "\n",
       "    .dataframe thead th {\n",
       "        text-align: right;\n",
       "    }\n",
       "</style>\n",
       "<table border=\"1\" class=\"dataframe\">\n",
       "  <thead>\n",
       "    <tr style=\"text-align: right;\">\n",
       "      <th></th>\n",
       "      <th>LCLid</th>\n",
       "      <th>DateTime</th>\n",
       "      <th>y_test</th>\n",
       "      <th>y_hat</th>\n",
       "    </tr>\n",
       "  </thead>\n",
       "  <tbody>\n",
       "    <tr>\n",
       "      <th>0</th>\n",
       "      <td>MAC001966</td>\n",
       "      <td>2012-12-01 23:30</td>\n",
       "      <td>0.129</td>\n",
       "      <td>0.610209</td>\n",
       "    </tr>\n",
       "    <tr>\n",
       "      <th>1</th>\n",
       "      <td>MAC001966</td>\n",
       "      <td>2012-12-02 00:00</td>\n",
       "      <td>0.166</td>\n",
       "      <td>0.440082</td>\n",
       "    </tr>\n",
       "    <tr>\n",
       "      <th>2</th>\n",
       "      <td>MAC001966</td>\n",
       "      <td>2012-12-02 00:30</td>\n",
       "      <td>0.181</td>\n",
       "      <td>0.440470</td>\n",
       "    </tr>\n",
       "    <tr>\n",
       "      <th>3</th>\n",
       "      <td>MAC001966</td>\n",
       "      <td>2012-12-02 01:00</td>\n",
       "      <td>0.119</td>\n",
       "      <td>0.440858</td>\n",
       "    </tr>\n",
       "    <tr>\n",
       "      <th>4</th>\n",
       "      <td>MAC001966</td>\n",
       "      <td>2012-12-02 01:30</td>\n",
       "      <td>0.237</td>\n",
       "      <td>0.447490</td>\n",
       "    </tr>\n",
       "  </tbody>\n",
       "</table>\n",
       "</div>"
      ],
      "text/plain": [
       "       LCLid          DateTime  y_test     y_hat\n",
       "0  MAC001966  2012-12-01 23:30   0.129  0.610209\n",
       "1  MAC001966  2012-12-02 00:00   0.166  0.440082\n",
       "2  MAC001966  2012-12-02 00:30   0.181  0.440470\n",
       "3  MAC001966  2012-12-02 01:00   0.119  0.440858\n",
       "4  MAC001966  2012-12-02 01:30   0.237  0.447490"
      ]
     },
     "execution_count": 13,
     "metadata": {},
     "output_type": "execute_result"
    }
   ],
   "source": [
    "# Return all values within current directory\n",
    "arr = os.listdir()\n",
    "# Save each string within arr that starts with 'MAC', namely smart meter ID\n",
    "smart_preds = [arr[i] for i in range(len(arr)) if arr[i][:3] == 'MAC']\n",
    "# Read all smart meter files within working directory\n",
    "frame = pd.DataFrame()\n",
    "list_ = []\n",
    "for file_ in smart_preds:\n",
    "    sm = pd.read_csv(file_,index_col=None, header=0, sep=\"\\t\", encoding='utf-8')\n",
    "    list_.append(sm)\n",
    "# Merge all smart meter prediction outputs, and print head of merged df\n",
    "smart_preds = pd.concat(list_)\n",
    "smart_preds.drop('Unnamed: 0', axis = 1, inplace=True)\n",
    "smart_preds.head()"
   ]
  },
  {
   "cell_type": "code",
   "execution_count": 14,
   "metadata": {},
   "outputs": [
    {
     "name": "stdout",
     "output_type": "stream",
     "text": [
      "Root Mean Squared Error: 0.9196549365334932\n",
      "Mean Absolute Percentage Error: 89.46409412\n",
      "Correlation: 0.00308321316556\n"
     ]
    }
   ],
   "source": [
    "# Print performance metrics between predicted and actual values\n",
    "RMSE_1, MAPE_1, corr_1 = calculate_statistics(smart_preds.y_hat, smart_preds.y_test, correlate = True)\n",
    "print(\"Root Mean Squared Error:\", RMSE_1)\n",
    "print(\"Mean Absolute Percentage Error:\", MAPE_1)\n",
    "print(\"Correlation:\", corr_1)"
   ]
  },
  {
   "cell_type": "code",
   "execution_count": 15,
   "metadata": {},
   "outputs": [
    {
     "name": "stdout",
     "output_type": "stream",
     "text": [
      "max value of actual consumption is 3.3789999\n",
      "max value of predicted consumption is 102.19653\n"
     ]
    },
    {
     "name": "stderr",
     "output_type": "stream",
     "text": [
      "C:\\Users\\gebruiker\\Anaconda3\\lib\\site-packages\\ipykernel\\__main__.py:4: SettingWithCopyWarning: \n",
      "A value is trying to be set on a copy of a slice from a DataFrame\n",
      "\n",
      "See the caveats in the documentation: http://pandas.pydata.org/pandas-docs/stable/indexing.html#indexing-view-versus-copy\n"
     ]
    }
   ],
   "source": [
    "# Due to large difference convert abnormal predictions to the largest observed instance\n",
    "print('max value of actual consumption is', smart_preds.y_test.max())\n",
    "print('max value of predicted consumption is', smart_preds.y_hat.max())\n",
    "smart_preds.y_hat[smart_preds.y_hat > smart_preds.y_test.max()] = smart_preds.y_test.max()"
   ]
  },
  {
   "cell_type": "code",
   "execution_count": 16,
   "metadata": {},
   "outputs": [
    {
     "name": "stdout",
     "output_type": "stream",
     "text": [
      "Root Mean Squared Error: 0.327250821881925\n",
      "Mean Absolute Percentage Error: 83.9356833882\n",
      "Correlation: 0.0886568540345\n"
     ]
    }
   ],
   "source": [
    "# Print new performance metric results based on max imputations\n",
    "RMSE_2, MAPE_2, corr_2 = calculate_statistics(smart_preds.y_hat, smart_preds.y_test, correlate = True)\n",
    "print(\"Root Mean Squared Error:\", RMSE_2)\n",
    "print(\"Mean Absolute Percentage Error:\", MAPE_2)\n",
    "print(\"Correlation:\", corr_2)"
   ]
  },
  {
   "cell_type": "code",
   "execution_count": 17,
   "metadata": {},
   "outputs": [
    {
     "data": {
      "text/html": [
       "<div>\n",
       "<style scoped>\n",
       "    .dataframe tbody tr th:only-of-type {\n",
       "        vertical-align: middle;\n",
       "    }\n",
       "\n",
       "    .dataframe tbody tr th {\n",
       "        vertical-align: top;\n",
       "    }\n",
       "\n",
       "    .dataframe thead th {\n",
       "        text-align: right;\n",
       "    }\n",
       "</style>\n",
       "<table border=\"1\" class=\"dataframe\">\n",
       "  <thead>\n",
       "    <tr style=\"text-align: right;\">\n",
       "      <th></th>\n",
       "      <th>DateTime</th>\n",
       "      <th>y_hat</th>\n",
       "      <th>y_test</th>\n",
       "    </tr>\n",
       "  </thead>\n",
       "  <tbody>\n",
       "    <tr>\n",
       "      <th>0</th>\n",
       "      <td>2012-12-01 23:30</td>\n",
       "      <td>0.638834</td>\n",
       "      <td>0.2822</td>\n",
       "    </tr>\n",
       "    <tr>\n",
       "      <th>1</th>\n",
       "      <td>2012-12-02 00:00</td>\n",
       "      <td>0.389883</td>\n",
       "      <td>0.2116</td>\n",
       "    </tr>\n",
       "    <tr>\n",
       "      <th>2</th>\n",
       "      <td>2012-12-02 00:30</td>\n",
       "      <td>0.389897</td>\n",
       "      <td>0.2304</td>\n",
       "    </tr>\n",
       "    <tr>\n",
       "      <th>3</th>\n",
       "      <td>2012-12-02 01:00</td>\n",
       "      <td>0.389911</td>\n",
       "      <td>0.1558</td>\n",
       "    </tr>\n",
       "    <tr>\n",
       "      <th>4</th>\n",
       "      <td>2012-12-02 01:30</td>\n",
       "      <td>0.386326</td>\n",
       "      <td>0.1750</td>\n",
       "    </tr>\n",
       "  </tbody>\n",
       "</table>\n",
       "</div>"
      ],
      "text/plain": [
       "           DateTime     y_hat  y_test\n",
       "0  2012-12-01 23:30  0.638834  0.2822\n",
       "1  2012-12-02 00:00  0.389883  0.2116\n",
       "2  2012-12-02 00:30  0.389897  0.2304\n",
       "3  2012-12-02 01:00  0.389911  0.1558\n",
       "4  2012-12-02 01:30  0.386326  0.1750"
      ]
     },
     "execution_count": 17,
     "metadata": {},
     "output_type": "execute_result"
    }
   ],
   "source": [
    "smart_preds_agg = smart_preds.groupby(['DateTime'], as_index=False).agg({'y_hat': 'mean', 'y_test':'mean'})\n",
    "smart_preds_agg.head()"
   ]
  },
  {
   "cell_type": "markdown",
   "metadata": {},
   "source": [
    "## Predictions"
   ]
  },
  {
   "cell_type": "code",
   "execution_count": 18,
   "metadata": {},
   "outputs": [
    {
     "data": {
      "text/html": [
       "<div>\n",
       "<style scoped>\n",
       "    .dataframe tbody tr th:only-of-type {\n",
       "        vertical-align: middle;\n",
       "    }\n",
       "\n",
       "    .dataframe tbody tr th {\n",
       "        vertical-align: top;\n",
       "    }\n",
       "\n",
       "    .dataframe thead th {\n",
       "        text-align: right;\n",
       "    }\n",
       "</style>\n",
       "<table border=\"1\" class=\"dataframe\">\n",
       "  <thead>\n",
       "    <tr style=\"text-align: right;\">\n",
       "      <th></th>\n",
       "      <th>LCLid</th>\n",
       "      <th>Year</th>\n",
       "      <th>Month</th>\n",
       "      <th>Day</th>\n",
       "      <th>Hour</th>\n",
       "      <th>DateTime</th>\n",
       "      <th>humidity</th>\n",
       "      <th>temperature</th>\n",
       "      <th>StdorToU</th>\n",
       "      <th>isAutumn</th>\n",
       "      <th>isSpring</th>\n",
       "      <th>isSummer</th>\n",
       "      <th>isWinter</th>\n",
       "      <th>isHoliday</th>\n",
       "      <th>isPeak</th>\n",
       "      <th>isOff_Peak</th>\n",
       "      <th>isNight</th>\n",
       "      <th>isWeekend</th>\n",
       "      <th>KWH_hh</th>\n",
       "    </tr>\n",
       "  </thead>\n",
       "  <tbody>\n",
       "    <tr>\n",
       "      <th>0</th>\n",
       "      <td>MAC001966</td>\n",
       "      <td>2012</td>\n",
       "      <td>11</td>\n",
       "      <td>1</td>\n",
       "      <td>0.0</td>\n",
       "      <td>2012-11-01 00:00</td>\n",
       "      <td>0.82</td>\n",
       "      <td>11.193333</td>\n",
       "      <td>1</td>\n",
       "      <td>1</td>\n",
       "      <td>0</td>\n",
       "      <td>0</td>\n",
       "      <td>0</td>\n",
       "      <td>0</td>\n",
       "      <td>0</td>\n",
       "      <td>0</td>\n",
       "      <td>1</td>\n",
       "      <td>0</td>\n",
       "      <td>0.162</td>\n",
       "    </tr>\n",
       "    <tr>\n",
       "      <th>1</th>\n",
       "      <td>MAC003355</td>\n",
       "      <td>2012</td>\n",
       "      <td>11</td>\n",
       "      <td>1</td>\n",
       "      <td>0.0</td>\n",
       "      <td>2012-11-01 00:00</td>\n",
       "      <td>0.82</td>\n",
       "      <td>11.193333</td>\n",
       "      <td>1</td>\n",
       "      <td>1</td>\n",
       "      <td>0</td>\n",
       "      <td>0</td>\n",
       "      <td>0</td>\n",
       "      <td>0</td>\n",
       "      <td>0</td>\n",
       "      <td>0</td>\n",
       "      <td>1</td>\n",
       "      <td>0</td>\n",
       "      <td>0.248</td>\n",
       "    </tr>\n",
       "    <tr>\n",
       "      <th>2</th>\n",
       "      <td>MAC003445</td>\n",
       "      <td>2012</td>\n",
       "      <td>11</td>\n",
       "      <td>1</td>\n",
       "      <td>0.0</td>\n",
       "      <td>2012-11-01 00:00</td>\n",
       "      <td>0.82</td>\n",
       "      <td>11.193333</td>\n",
       "      <td>1</td>\n",
       "      <td>1</td>\n",
       "      <td>0</td>\n",
       "      <td>0</td>\n",
       "      <td>0</td>\n",
       "      <td>0</td>\n",
       "      <td>0</td>\n",
       "      <td>0</td>\n",
       "      <td>1</td>\n",
       "      <td>0</td>\n",
       "      <td>0.507</td>\n",
       "    </tr>\n",
       "    <tr>\n",
       "      <th>3</th>\n",
       "      <td>MAC003876</td>\n",
       "      <td>2012</td>\n",
       "      <td>11</td>\n",
       "      <td>1</td>\n",
       "      <td>0.0</td>\n",
       "      <td>2012-11-01 00:00</td>\n",
       "      <td>0.82</td>\n",
       "      <td>11.193333</td>\n",
       "      <td>1</td>\n",
       "      <td>1</td>\n",
       "      <td>0</td>\n",
       "      <td>0</td>\n",
       "      <td>0</td>\n",
       "      <td>0</td>\n",
       "      <td>0</td>\n",
       "      <td>0</td>\n",
       "      <td>1</td>\n",
       "      <td>0</td>\n",
       "      <td>0.139</td>\n",
       "    </tr>\n",
       "    <tr>\n",
       "      <th>4</th>\n",
       "      <td>MAC004567</td>\n",
       "      <td>2012</td>\n",
       "      <td>11</td>\n",
       "      <td>1</td>\n",
       "      <td>0.0</td>\n",
       "      <td>2012-11-01 00:00</td>\n",
       "      <td>0.82</td>\n",
       "      <td>11.193333</td>\n",
       "      <td>1</td>\n",
       "      <td>1</td>\n",
       "      <td>0</td>\n",
       "      <td>0</td>\n",
       "      <td>0</td>\n",
       "      <td>0</td>\n",
       "      <td>0</td>\n",
       "      <td>0</td>\n",
       "      <td>1</td>\n",
       "      <td>0</td>\n",
       "      <td>0.054</td>\n",
       "    </tr>\n",
       "  </tbody>\n",
       "</table>\n",
       "</div>"
      ],
      "text/plain": [
       "       LCLid  Year  Month  Day  Hour          DateTime  humidity  temperature  \\\n",
       "0  MAC001966  2012     11    1   0.0  2012-11-01 00:00      0.82    11.193333   \n",
       "1  MAC003355  2012     11    1   0.0  2012-11-01 00:00      0.82    11.193333   \n",
       "2  MAC003445  2012     11    1   0.0  2012-11-01 00:00      0.82    11.193333   \n",
       "3  MAC003876  2012     11    1   0.0  2012-11-01 00:00      0.82    11.193333   \n",
       "4  MAC004567  2012     11    1   0.0  2012-11-01 00:00      0.82    11.193333   \n",
       "\n",
       "   StdorToU  isAutumn  isSpring  isSummer  isWinter  isHoliday  isPeak  \\\n",
       "0         1         1         0         0         0          0       0   \n",
       "1         1         1         0         0         0          0       0   \n",
       "2         1         1         0         0         0          0       0   \n",
       "3         1         1         0         0         0          0       0   \n",
       "4         1         1         0         0         0          0       0   \n",
       "\n",
       "   isOff_Peak  isNight  isWeekend  KWH_hh  \n",
       "0           0        1          0   0.162  \n",
       "1           0        1          0   0.248  \n",
       "2           0        1          0   0.507  \n",
       "3           0        1          0   0.139  \n",
       "4           0        1          0   0.054  "
      ]
     },
     "execution_count": 18,
     "metadata": {},
     "output_type": "execute_result"
    }
   ],
   "source": [
    "df.head()"
   ]
  },
  {
   "cell_type": "markdown",
   "metadata": {},
   "source": [
    "## Looping throughout the year"
   ]
  },
  {
   "cell_type": "code",
   "execution_count": 19,
   "metadata": {},
   "outputs": [
    {
     "name": "stdout",
     "output_type": "stream",
     "text": [
      "(20451, 11)\n"
     ]
    }
   ],
   "source": [
    "# Remove StdorToU variable as it says nothing on aggregated level, no information to model. \n",
    "ann_df = df.groupby(['DateTime'], as_index=False).agg({'humidity': 'mean',\n",
    "       'temperature': 'mean', 'isAutumn': 'mean', 'isWinter': 'mean', 'isSpring': 'mean', 'isSummer': 'mean',\n",
    "       'isHoliday': 'mean', 'isPeak': 'mean', 'isOff_Peak': 'mean', 'isWeekend': 'mean', 'KWH_hh': 'mean'})\n",
    "# Remove dummy trap colums\n",
    "trap_dummies = ['isWinter']\n",
    "ann_df.drop(trap_dummies, axis = 1, inplace = True)\n",
    "print(ann_df.shape)"
   ]
  },
  {
   "cell_type": "code",
   "execution_count": 20,
   "metadata": {},
   "outputs": [
    {
     "data": {
      "text/html": [
       "<div>\n",
       "<style scoped>\n",
       "    .dataframe tbody tr th:only-of-type {\n",
       "        vertical-align: middle;\n",
       "    }\n",
       "\n",
       "    .dataframe tbody tr th {\n",
       "        vertical-align: top;\n",
       "    }\n",
       "\n",
       "    .dataframe thead th {\n",
       "        text-align: right;\n",
       "    }\n",
       "</style>\n",
       "<table border=\"1\" class=\"dataframe\">\n",
       "  <thead>\n",
       "    <tr style=\"text-align: right;\">\n",
       "      <th></th>\n",
       "      <th>DateTime</th>\n",
       "      <th>y_hat_mean</th>\n",
       "      <th>y_hat_std</th>\n",
       "    </tr>\n",
       "  </thead>\n",
       "  <tbody>\n",
       "    <tr>\n",
       "      <th>0</th>\n",
       "      <td>2012-12-01 23:30</td>\n",
       "      <td>0.638834</td>\n",
       "      <td>0.107782</td>\n",
       "    </tr>\n",
       "    <tr>\n",
       "      <th>1</th>\n",
       "      <td>2012-12-02 00:00</td>\n",
       "      <td>0.389883</td>\n",
       "      <td>0.055072</td>\n",
       "    </tr>\n",
       "    <tr>\n",
       "      <th>2</th>\n",
       "      <td>2012-12-02 00:30</td>\n",
       "      <td>0.389897</td>\n",
       "      <td>0.054253</td>\n",
       "    </tr>\n",
       "    <tr>\n",
       "      <th>3</th>\n",
       "      <td>2012-12-02 01:00</td>\n",
       "      <td>0.389911</td>\n",
       "      <td>0.053470</td>\n",
       "    </tr>\n",
       "    <tr>\n",
       "      <th>4</th>\n",
       "      <td>2012-12-02 01:30</td>\n",
       "      <td>0.386326</td>\n",
       "      <td>0.051597</td>\n",
       "    </tr>\n",
       "  </tbody>\n",
       "</table>\n",
       "</div>"
      ],
      "text/plain": [
       "           DateTime  y_hat_mean  y_hat_std\n",
       "0  2012-12-01 23:30    0.638834   0.107782\n",
       "1  2012-12-02 00:00    0.389883   0.055072\n",
       "2  2012-12-02 00:30    0.389897   0.054253\n",
       "3  2012-12-02 01:00    0.389911   0.053470\n",
       "4  2012-12-02 01:30    0.386326   0.051597"
      ]
     },
     "execution_count": 20,
     "metadata": {},
     "output_type": "execute_result"
    }
   ],
   "source": [
    "# Aggregate all smart meter data and return the mean and standard deviations of kWh consumption per timestamp\n",
    "agg_smart_preds = smart_preds.groupby(['DateTime'], as_index=False).agg({'y_hat': 'mean'})\n",
    "agg_smart_preds['y_hat_std'] =  smart_preds.groupby(['DateTime'], as_index=False).agg({'y_hat': 'std'}).iloc[:,1]\n",
    "agg_smart_preds.rename(columns={'y_hat':'y_hat_mean'}, inplace=True)\n",
    "agg_smart_preds.head()"
   ]
  },
  {
   "cell_type": "code",
   "execution_count": 21,
   "metadata": {},
   "outputs": [
    {
     "name": "stderr",
     "output_type": "stream",
     "text": [
      "C:\\Users\\gebruiker\\Anaconda3\\lib\\site-packages\\ipykernel\\__main__.py:10: SettingWithCopyWarning: \n",
      "A value is trying to be set on a copy of a slice from a DataFrame\n",
      "\n",
      "See the caveats in the documentation: http://pandas.pydata.org/pandas-docs/stable/indexing.html#indexing-view-versus-copy\n"
     ]
    },
    {
     "data": {
      "text/html": [
       "<div>\n",
       "<style scoped>\n",
       "    .dataframe tbody tr th:only-of-type {\n",
       "        vertical-align: middle;\n",
       "    }\n",
       "\n",
       "    .dataframe tbody tr th {\n",
       "        vertical-align: top;\n",
       "    }\n",
       "\n",
       "    .dataframe thead th {\n",
       "        text-align: right;\n",
       "    }\n",
       "</style>\n",
       "<table border=\"1\" class=\"dataframe\">\n",
       "  <thead>\n",
       "    <tr style=\"text-align: right;\">\n",
       "      <th></th>\n",
       "      <th>DateTime</th>\n",
       "      <th>Year</th>\n",
       "      <th>Month</th>\n",
       "      <th>Day</th>\n",
       "      <th>Hour</th>\n",
       "      <th>humidity</th>\n",
       "      <th>temperature</th>\n",
       "      <th>isAutumn</th>\n",
       "      <th>isSpring</th>\n",
       "      <th>isSummer</th>\n",
       "      <th>isHoliday</th>\n",
       "      <th>isPeak</th>\n",
       "      <th>isOff_Peak</th>\n",
       "      <th>isWeekend</th>\n",
       "      <th>y_hat_mean</th>\n",
       "      <th>y_hat_std</th>\n",
       "      <th>KWH_hh</th>\n",
       "    </tr>\n",
       "  </thead>\n",
       "  <tbody>\n",
       "    <tr>\n",
       "      <th>0</th>\n",
       "      <td>2012-12-01 23:30:00</td>\n",
       "      <td>2012</td>\n",
       "      <td>12</td>\n",
       "      <td>1</td>\n",
       "      <td>0.5</td>\n",
       "      <td>0.849</td>\n",
       "      <td>0.451667</td>\n",
       "      <td>0</td>\n",
       "      <td>0</td>\n",
       "      <td>0</td>\n",
       "      <td>0</td>\n",
       "      <td>1</td>\n",
       "      <td>0</td>\n",
       "      <td>1</td>\n",
       "      <td>0.638834</td>\n",
       "      <td>0.107782</td>\n",
       "      <td>0.2822</td>\n",
       "    </tr>\n",
       "    <tr>\n",
       "      <th>1</th>\n",
       "      <td>2012-12-02 00:00:00</td>\n",
       "      <td>2012</td>\n",
       "      <td>12</td>\n",
       "      <td>2</td>\n",
       "      <td>0.0</td>\n",
       "      <td>0.848</td>\n",
       "      <td>0.131111</td>\n",
       "      <td>0</td>\n",
       "      <td>0</td>\n",
       "      <td>0</td>\n",
       "      <td>0</td>\n",
       "      <td>0</td>\n",
       "      <td>0</td>\n",
       "      <td>1</td>\n",
       "      <td>0.389883</td>\n",
       "      <td>0.055072</td>\n",
       "      <td>0.2116</td>\n",
       "    </tr>\n",
       "    <tr>\n",
       "      <th>2</th>\n",
       "      <td>2012-12-02 00:30:00</td>\n",
       "      <td>2012</td>\n",
       "      <td>12</td>\n",
       "      <td>2</td>\n",
       "      <td>0.5</td>\n",
       "      <td>0.850</td>\n",
       "      <td>0.120000</td>\n",
       "      <td>0</td>\n",
       "      <td>0</td>\n",
       "      <td>0</td>\n",
       "      <td>0</td>\n",
       "      <td>0</td>\n",
       "      <td>0</td>\n",
       "      <td>1</td>\n",
       "      <td>0.389897</td>\n",
       "      <td>0.054253</td>\n",
       "      <td>0.2304</td>\n",
       "    </tr>\n",
       "    <tr>\n",
       "      <th>3</th>\n",
       "      <td>2012-12-02 01:00:00</td>\n",
       "      <td>2012</td>\n",
       "      <td>12</td>\n",
       "      <td>2</td>\n",
       "      <td>1.0</td>\n",
       "      <td>0.852</td>\n",
       "      <td>0.108889</td>\n",
       "      <td>0</td>\n",
       "      <td>0</td>\n",
       "      <td>0</td>\n",
       "      <td>0</td>\n",
       "      <td>0</td>\n",
       "      <td>0</td>\n",
       "      <td>1</td>\n",
       "      <td>0.389911</td>\n",
       "      <td>0.053470</td>\n",
       "      <td>0.1558</td>\n",
       "    </tr>\n",
       "    <tr>\n",
       "      <th>4</th>\n",
       "      <td>2012-12-02 01:30:00</td>\n",
       "      <td>2012</td>\n",
       "      <td>12</td>\n",
       "      <td>2</td>\n",
       "      <td>0.5</td>\n",
       "      <td>0.860</td>\n",
       "      <td>-0.132222</td>\n",
       "      <td>0</td>\n",
       "      <td>0</td>\n",
       "      <td>0</td>\n",
       "      <td>0</td>\n",
       "      <td>0</td>\n",
       "      <td>0</td>\n",
       "      <td>1</td>\n",
       "      <td>0.386326</td>\n",
       "      <td>0.051597</td>\n",
       "      <td>0.1750</td>\n",
       "    </tr>\n",
       "  </tbody>\n",
       "</table>\n",
       "</div>"
      ],
      "text/plain": [
       "             DateTime  Year  Month  Day  Hour  humidity  temperature  \\\n",
       "0 2012-12-01 23:30:00  2012     12    1   0.5     0.849     0.451667   \n",
       "1 2012-12-02 00:00:00  2012     12    2   0.0     0.848     0.131111   \n",
       "2 2012-12-02 00:30:00  2012     12    2   0.5     0.850     0.120000   \n",
       "3 2012-12-02 01:00:00  2012     12    2   1.0     0.852     0.108889   \n",
       "4 2012-12-02 01:30:00  2012     12    2   0.5     0.860    -0.132222   \n",
       "\n",
       "   isAutumn  isSpring  isSummer  isHoliday  isPeak  isOff_Peak  isWeekend  \\\n",
       "0         0         0         0          0       1           0          1   \n",
       "1         0         0         0          0       0           0          1   \n",
       "2         0         0         0          0       0           0          1   \n",
       "3         0         0         0          0       0           0          1   \n",
       "4         0         0         0          0       0           0          1   \n",
       "\n",
       "   y_hat_mean  y_hat_std  KWH_hh  \n",
       "0    0.638834   0.107782  0.2822  \n",
       "1    0.389883   0.055072  0.2116  \n",
       "2    0.389897   0.054253  0.2304  \n",
       "3    0.389911   0.053470  0.1558  \n",
       "4    0.386326   0.051597  0.1750  "
      ]
     },
     "execution_count": 21,
     "metadata": {},
     "output_type": "execute_result"
    }
   ],
   "source": [
    "### This section merges the ann_df with all weather and time parameters with outputs from the agg_smart_preds df\n",
    "cluster = pd.merge(ann_df, agg_smart_preds, on=['DateTime'], how = 'right')\n",
    "# Convert time column to datetime columns\n",
    "cluster['DateTime'] = pd.to_datetime(cluster['DateTime'], errors='coerce')\n",
    "cluster['Year'] = cluster['DateTime'].dt.year\n",
    "cluster['Month'] = cluster['DateTime'].dt.month\n",
    "cluster['Day'] = cluster['DateTime'].dt.day\n",
    "cluster['Hour'] = cluster['DateTime'].dt.hour\n",
    "cluster['Minute'] = cluster['DateTime'].dt.minute\n",
    "cluster['Hour'][cluster['Minute'] == 30] = .5\n",
    "cluster.drop(['Minute'], axis = 1, inplace=True)\n",
    "# Reorder columns to have target as last column\n",
    "cluster = cluster.loc[:,['DateTime', 'Year', 'Month', 'Day', 'Hour', 'humidity', 'temperature', 'isAutumn', 'isSpring', 'isSummer',\n",
    "       'isHoliday', 'isPeak', 'isOff_Peak', 'isWeekend', 'y_hat_mean','y_hat_std', 'KWH_hh' ]]\n",
    "cluster.head()"
   ]
  },
  {
   "cell_type": "code",
   "execution_count": 22,
   "metadata": {},
   "outputs": [
    {
     "name": "stdout",
     "output_type": "stream",
     "text": [
      "1-level predictions for  B  for  0  days in  27  seconds\n",
      "Epoch:  0\n",
      "Epoch:  30\n",
      "Epoch:  60\n",
      "Epoch:  90\n",
      "Epoch:  120\n",
      "Epoch:  150\n",
      "Epoch:  180\n",
      "Epoch:  210\n",
      "Epoch:  240\n",
      "Epoch:  270\n",
      "Epoch:  300\n",
      "Epoch:  330\n",
      "Epoch:  360\n",
      "Predictions for  B  takes  42185  seconds, for  364  days.\n"
     ]
    }
   ],
   "source": [
    "ann_2_lvl = cluster_predict_365(cluster, train_days = 31, test_days=364)"
   ]
  },
  {
   "cell_type": "code",
   "execution_count": 23,
   "metadata": {},
   "outputs": [
    {
     "name": "stdout",
     "output_type": "stream",
     "text": [
      "Root Mean Squared Error: 1.9187674893228204\n",
      "Mean Absolute Percentage Error: 46.8700475336\n"
     ]
    }
   ],
   "source": [
    "ann_2_lvl_RMSE, ann_2_lvl_MAPE, corr_2 = calculate_statistics(ann_2_lvl.y_test.values, ann_2_lvl.y_hat.values, correlate = False)\n",
    "print(\"Root Mean Squared Error:\", ann_2_lvl_RMSE)\n",
    "print(\"Mean Absolute Percentage Error:\", ann_2_lvl_MAPE)"
   ]
  },
  {
   "cell_type": "code",
   "execution_count": 24,
   "metadata": {},
   "outputs": [
    {
     "data": {
      "text/plain": [
       "<matplotlib.legend.Legend at 0x18519e61eb8>"
      ]
     },
     "execution_count": 24,
     "metadata": {},
     "output_type": "execute_result"
    },
    {
     "data": {
      "image/png": "[encoded data removed]",
      "text/plain": [
       "<matplotlib.figure.Figure at 0x186bbaaf080>"
      ]
     },
     "metadata": {},
     "output_type": "display_data"
    }
   ],
   "source": [
    "#Plot of the predicted prices versus the real prices\n",
    "fig = plt.figure(figsize=(10,5))\n",
    "ax = fig.add_subplot(111)\n",
    "plt.plot(ann_2_lvl.y_test.values, color = 'green', label = 'Real kWH')\n",
    "plt.plot(ann_2_lvl.y_hat.values, color = 'red', label = 'Predicted kWH')\n",
    "ax.set_ylabel(\"kWh\")\n",
    "ax.set_xlabel(\"Time (half-hours)\")\n",
    "ax.legend()"
   ]
  },
  {
   "cell_type": "code",
   "execution_count": 25,
   "metadata": {},
   "outputs": [],
   "source": [
    "#frequency = 800  # Set Frequency To 2500 Hertz\n",
    "#duration = 5000  # Set Duration To 1000 ms == 1 second\n",
    "#winsound.Beep(frequency, duration)"
   ]
  },
  {
   "cell_type": "code",
   "execution_count": null,
   "metadata": {},
   "outputs": [],
   "source": []
  }
 ],
 "metadata": {
  "kernelspec": {
   "display_name": "Python [default]",
   "language": "python",
   "name": "python3"
  },
  "language_info": {
   "codemirror_mode": {
    "name": "ipython",
    "version": 3
   },
   "file_extension": ".py",
   "mimetype": "text/x-python",
   "name": "python",
   "nbconvert_exporter": "python",
   "pygments_lexer": "ipython3",
   "version": "3.6.5"
  }
 },
 "nbformat": 4,
 "nbformat_minor": 2
}
